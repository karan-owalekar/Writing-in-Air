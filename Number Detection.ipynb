{
 "cells": [
  {
   "cell_type": "code",
   "execution_count": 1,
   "metadata": {},
   "outputs": [
    {
     "name": "stderr",
     "output_type": "stream",
     "text": [
      "Using TensorFlow backend.\n"
     ]
    }
   ],
   "source": [
    "from keras.preprocessing.image import ImageDataGenerator \n",
    "from keras.models import Sequential \n",
    "from keras.layers import Conv2D, MaxPooling2D \n",
    "from keras.layers import Activation, Dropout, Flatten, Dense \n",
    "from keras import backend as K \n",
    "from keras.utils.np_utils import to_categorical\n"
   ]
  },
  {
   "cell_type": "code",
   "execution_count": 2,
   "metadata": {},
   "outputs": [],
   "source": [
    "img_width, img_height = 640, 480\n"
   ]
  },
  {
   "cell_type": "code",
   "execution_count": 3,
   "metadata": {},
   "outputs": [],
   "source": [
    "train_data_dir = 'Images/train'\n",
    "validation_data_dir = 'Images/test'\n",
    "nb_train_samples = 400\n",
    "nb_validation_samples = 120\n",
    "epochs = 10\n",
    "batch_size = 8"
   ]
  },
  {
   "cell_type": "code",
   "execution_count": 4,
   "metadata": {},
   "outputs": [],
   "source": [
    "if K.image_data_format() == 'channels_first': \n",
    "\tinput_shape = (3, img_width, img_height) \n",
    "else: \n",
    "\tinput_shape = (img_width, img_height, 3) "
   ]
  },
  {
   "cell_type": "code",
   "execution_count": 8,
   "metadata": {},
   "outputs": [],
   "source": [
    "model = Sequential() \n",
    "model.add(Conv2D(64, (2, 2), input_shape=input_shape)) \n",
    "model.add(Activation('relu')) \n",
    "model.add(MaxPooling2D(pool_size=(2, 2))) \n",
    "\n",
    "model.add(Conv2D(64, (2, 2))) \n",
    "model.add(Activation('relu')) \n",
    "model.add(MaxPooling2D(pool_size=(2, 2)))\n",
    "\n",
    "model.add(Conv2D(64, (2, 2))) \n",
    "model.add(Activation('relu')) \n",
    "model.add(MaxPooling2D(pool_size=(2, 2)))\n",
    " \n",
    "model.add(Conv2D(128, (2, 2))) \n",
    "model.add(Activation('relu')) \n",
    "model.add(MaxPooling2D(pool_size=(2, 2))) \n",
    "\n",
    "model.add(Conv2D(128, (2, 2))) \n",
    "model.add(Activation('relu')) \n",
    "model.add(MaxPooling2D(pool_size=(2, 2))) \n",
    "\n",
    "model.add(Flatten()) \n",
    "model.add(Dense(128)) \n",
    "model.add(Activation('relu')) \n",
    "model.add(Dropout(0.5)) \n",
    "model.add(Dense(10)) \n",
    "model.add(Activation('softmax')) "
   ]
  },
  {
   "cell_type": "code",
   "execution_count": 9,
   "metadata": {},
   "outputs": [],
   "source": [
    "model.compile(loss='categorical_crossentropy', \n",
    "\t\t\toptimizer='adam', \n",
    "\t\t\tmetrics=['accuracy']) "
   ]
  },
  {
   "cell_type": "code",
   "execution_count": 10,
   "metadata": {},
   "outputs": [
    {
     "name": "stdout",
     "output_type": "stream",
     "text": [
      "Found 400 images belonging to 10 classes.\n",
      "Found 120 images belonging to 10 classes.\n"
     ]
    }
   ],
   "source": [
    "train_datagen = ImageDataGenerator( \n",
    "\trescale=1. / 255, \n",
    "\tshear_range=0.2, \n",
    "\tzoom_range=0.2, \n",
    "\thorizontal_flip=True) \n",
    "\n",
    "test_datagen = ImageDataGenerator(rescale=1. / 255) \n",
    "\n",
    "train_generator = train_datagen.flow_from_directory( \n",
    "\ttrain_data_dir, \n",
    "\ttarget_size=(img_width, img_height), \n",
    "\tbatch_size=batch_size, \n",
    "\tclass_mode='categorical') \n",
    "\n",
    "validation_generator = test_datagen.flow_from_directory( \n",
    "\tvalidation_data_dir, \n",
    "\ttarget_size=(img_width, img_height), \n",
    "\tbatch_size=batch_size, \n",
    "\tclass_mode='categorical') "
   ]
  },
  {
   "cell_type": "code",
   "execution_count": 11,
   "metadata": {},
   "outputs": [
    {
     "name": "stdout",
     "output_type": "stream",
     "text": [
      "Epoch 1/10\n",
      "50/50 [==============================] - 339s 7s/step - loss: 2.2176 - accuracy: 0.1800 - val_loss: 1.9867 - val_accuracy: 0.5500\n",
      "Epoch 2/10\n",
      "50/50 [==============================] - 317s 6s/step - loss: 1.6186 - accuracy: 0.4650 - val_loss: 0.6891 - val_accuracy: 0.7417\n",
      "Epoch 3/10\n",
      "50/50 [==============================] - 316s 6s/step - loss: 1.1254 - accuracy: 0.6450 - val_loss: 0.4307 - val_accuracy: 0.8000\n",
      "Epoch 4/10\n",
      "50/50 [==============================] - 316s 6s/step - loss: 0.8766 - accuracy: 0.7325 - val_loss: 0.4884 - val_accuracy: 0.8667\n",
      "Epoch 5/10\n",
      "50/50 [==============================] - 316s 6s/step - loss: 0.7250 - accuracy: 0.7800 - val_loss: 0.8518 - val_accuracy: 0.9167\n",
      "Epoch 6/10\n",
      "50/50 [==============================] - 317s 6s/step - loss: 0.6765 - accuracy: 0.7875 - val_loss: 0.0557 - val_accuracy: 0.9500\n",
      "Epoch 7/10\n",
      "50/50 [==============================] - 317s 6s/step - loss: 0.4766 - accuracy: 0.8425 - val_loss: 0.0474 - val_accuracy: 0.9583\n",
      "Epoch 8/10\n",
      "50/50 [==============================] - 316s 6s/step - loss: 0.3512 - accuracy: 0.8950 - val_loss: 0.0433 - val_accuracy: 0.9667\n",
      "Epoch 9/10\n",
      "50/50 [==============================] - 317s 6s/step - loss: 0.4336 - accuracy: 0.8575 - val_loss: 0.0500 - val_accuracy: 0.9917\n",
      "Epoch 10/10\n",
      "50/50 [==============================] - 316s 6s/step - loss: 0.3436 - accuracy: 0.8925 - val_loss: 0.0148 - val_accuracy: 0.9833\n"
     ]
    },
    {
     "data": {
      "text/plain": [
       "<keras.callbacks.callbacks.History at 0x1e60e2be3c8>"
      ]
     },
     "execution_count": 11,
     "metadata": {},
     "output_type": "execute_result"
    }
   ],
   "source": [
    "model.fit_generator(train_generator, \n",
    "    steps_per_epoch = nb_train_samples // batch_size, \n",
    "    epochs = epochs, validation_data = validation_generator, \n",
    "    validation_steps = nb_validation_samples // batch_size) "
   ]
  },
  {
   "cell_type": "code",
   "execution_count": 12,
   "metadata": {},
   "outputs": [],
   "source": [
    "model.save('MODEL1.h5')"
   ]
  }
 ],
 "metadata": {
  "kernelspec": {
   "display_name": "Python 3",
   "language": "python",
   "name": "python3"
  },
  "language_info": {
   "codemirror_mode": {
    "name": "ipython",
    "version": 3
   },
   "file_extension": ".py",
   "mimetype": "text/x-python",
   "name": "python",
   "nbconvert_exporter": "python",
   "pygments_lexer": "ipython3",
   "version": "3.6.10"
  }
 },
 "nbformat": 4,
 "nbformat_minor": 4
}
